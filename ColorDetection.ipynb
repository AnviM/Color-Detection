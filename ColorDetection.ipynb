{
 "cells": [
  {
   "cell_type": "code",
   "execution_count": 1,
   "metadata": {},
   "outputs": [],
   "source": [
    "#Importing the required packages and reading the image\n",
    "import cv2\n",
    "import numpy as np\n",
    "import pandas as pd\n",
    "\n",
    "image_path=\"C://Users//Anvi//Desktop//Project//Color Detection//Picture.jpg\"\n",
    "image=cv2.imread(image_path)\n",
    "image=cv2.resize(image,(700,500))\n",
    "clicked=False\n",
    "r=g=b=x_pos=y_pos=0"
   ]
  },
  {
   "cell_type": "code",
   "execution_count": 2,
   "metadata": {},
   "outputs": [],
   "source": [
    "#Read the CSV file using pandas\n",
    "index=[\"Color\", \"Color_Name\",\"Hex\",\"R\",\"G\",\"B\"]\n",
    "#Assigned each column with a name for easy accessing.\n",
    "data=pd.read_csv('colors.csv',names=index,header=None)"
   ]
  },
  {
   "cell_type": "code",
   "execution_count": 3,
   "metadata": {},
   "outputs": [],
   "source": [
    "#To get the color name, we calculate a distance(d) which tells us how close we are to color and choose the one having minimum distance.\n",
    "#Our distance is calculated by this formula:\n",
    "#d = abs(Red — ithRedColor) + (Green — ithGreenColor) + (Blue — ithBlueColor)\n",
    "\n",
    "def getColorName(R,G,B):\n",
    "    minimum=10000\n",
    "    for i in range(len(data)):\n",
    "        d=abs(R-int(data.loc[i,\"R\"]))+abs(G-int(data.loc[i,\"G\"]))+ abs(B-int(data.loc[i,\"B\"]))\n",
    "        if(d<=minimum):\n",
    "            minimum=d\n",
    "            colorname=data.loc[i,\"Color_Name\"]\n",
    "    return colorname"
   ]
  },
  {
   "cell_type": "code",
   "execution_count": 4,
   "metadata": {},
   "outputs": [],
   "source": [
    "#It will calculate the rgb values of the pixel which we double click\n",
    "#In the function, we check if the event is double-clicked then we \n",
    "#calculate and set the r,g,b values along with x,y positions of the mouse.\n",
    "\n",
    "def draw_function(event,x,y,flags,param):\n",
    "    if event == cv2.EVENT_LBUTTONDBLCLK:\n",
    "        global b,g,r,x_pos,y_pos,clicked\n",
    "        clicked=True\n",
    "        x_pos=x\n",
    "        y_pos=y\n",
    "        b,g,r=image[y,x]\n",
    "        b=int(b)\n",
    "        g=int(g)\n",
    "        r=int(r)"
   ]
  },
  {
   "cell_type": "code",
   "execution_count": 5,
   "metadata": {},
   "outputs": [],
   "source": [
    "#Create a window in which the input image will display\n",
    "cv2.namedWindow('COLOR DETECTION')\n",
    "#Set a callback function which will be called when a mouse event happens\n",
    "cv2.setMouseCallback('COLOR DETECTION',draw_function)"
   ]
  },
  {
   "cell_type": "code",
   "execution_count": null,
   "metadata": {},
   "outputs": [],
   "source": [
    "while(1):\n",
    "    \n",
    "    cv2.imshow(\"COLOR DETECTION\",image)\n",
    "    if(clicked):\n",
    "        cv2.rectangle(image,(20,20),(750,60),(b,g,r),-1)\n",
    "        text=getColorName(r,g,b)+' R='+str(r)+' G='+str(g)+' B='+str(b)\n",
    "        cv2.putText(image,text,(50,50),2,0.8,(255,255,255),2,cv2.LINE_AA)\n",
    "        #For very light colours we will display text in black colour\n",
    "        if(r+g+b>=600):\n",
    "            cv2.putText(image, text,(50,50),2,0.8,(0,0,0),2,cv2.LINE_AA)\n",
    "        clicked=False\n",
    "        \n",
    "    if cv2.waitKey(20) & 0xFF==27:\n",
    "        break\n",
    "         \n",
    "cv2.destroyAllWindows()\n",
    "    "
   ]
  },
  {
   "cell_type": "code",
   "execution_count": null,
   "metadata": {},
   "outputs": [],
   "source": []
  }
 ],
 "metadata": {
  "kernelspec": {
   "display_name": "Python 3",
   "language": "python",
   "name": "python3"
  },
  "language_info": {
   "codemirror_mode": {
    "name": "ipython",
    "version": 3
   },
   "file_extension": ".py",
   "mimetype": "text/x-python",
   "name": "python",
   "nbconvert_exporter": "python",
   "pygments_lexer": "ipython3",
   "version": "3.7.4"
  }
 },
 "nbformat": 4,
 "nbformat_minor": 2
}
